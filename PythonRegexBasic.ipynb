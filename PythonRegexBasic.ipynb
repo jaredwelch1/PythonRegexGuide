{
 "cells": [
  {
   "cell_type": "markdown",
   "metadata": {},
   "source": [
    "# Python Regular Expressions\n",
    "\n",
    "I recently worked on a small bit of regex code to do string processing in javacsript. This is a quick intro to regex and how to properly use it, with small code examples. "
   ]
  },
  {
   "cell_type": "code",
   "execution_count": 1,
   "metadata": {},
   "outputs": [],
   "source": [
    "import re"
   ]
  },
  {
   "cell_type": "code",
   "execution_count": 2,
   "metadata": {},
   "outputs": [],
   "source": [
    "# a small shorthand for printing the matches in regex objects\n",
    "def mprint(match):\n",
    "    print(match.string[match.start():match.end()])"
   ]
  },
  {
   "cell_type": "code",
   "execution_count": 3,
   "metadata": {},
   "outputs": [
    {
     "name": "stdout",
     "output_type": "stream",
     "text": [
      "a\n",
      "a\n",
      "a\n",
      "a\n",
      "a\n",
      "['This', 'sentence', 'is', 'split', 'by', 'the', '\"A\"s']\n"
     ]
    }
   ],
   "source": [
    "# A basic start. RegEx is made to match certain string patterns. \n",
    "\n",
    "# To match the character 'a':\n",
    "\n",
    "string = 'This is a string with a lot of \"a\" characters inside'\n",
    "regex = r'a'\n",
    "\n",
    "# finditer simply returns all the matches \n",
    "# so here we find all of the 'a' characters\n",
    "for match in re.finditer(regex,string):\n",
    "    mprint(match)\n",
    "    \n",
    "# split takes the matches and splits on them\n",
    "print(re.split(regex, 'Thisasentenceaisasplitabyathea\"A\"s'))"
   ]
  },
  {
   "cell_type": "code",
   "execution_count": 4,
   "metadata": {},
   "outputs": [
    {
     "name": "stdout",
     "output_type": "stream",
     "text": [
      "monkey\n"
     ]
    }
   ],
   "source": [
    "# Here is a second regex for the word monkey\n",
    "# we also introduce the ^ and $ characters.\n",
    "# ^ means you are starting at the beginning of the string\n",
    "# $ means end of the string.\n",
    "regex = r'^monkey$'\n",
    "\n",
    "for match in re.finditer(regex,'monkey'):\n",
    "    mprint(match)"
   ]
  },
  {
   "cell_type": "code",
   "execution_count": 5,
   "metadata": {},
   "outputs": [],
   "source": [
    "# this does not print anything because\n",
    "# we have characters in the string before monkey\n",
    "# and after monkey.\n",
    "for match in re.finditer(regex,'I like monkeys'):\n",
    "    mprint(match)"
   ]
  },
  {
   "cell_type": "code",
   "execution_count": 6,
   "metadata": {},
   "outputs": [],
   "source": [
    "# same for this\n",
    "for match in re.finditer(regex,'monkey business'):\n",
    "    mprint(match)"
   ]
  },
  {
   "cell_type": "code",
   "execution_count": 7,
   "metadata": {},
   "outputs": [
    {
     "name": "stdout",
     "output_type": "stream",
     "text": [
      "monkey\n"
     ]
    }
   ],
   "source": [
    "# if we use this regex, the above strings all have matches\n",
    "regex = r'monkey'\n",
    "for match in re.finditer(regex, 'monkey'):\n",
    "    mprint(match)"
   ]
  },
  {
   "cell_type": "code",
   "execution_count": 8,
   "metadata": {},
   "outputs": [
    {
     "name": "stdout",
     "output_type": "stream",
     "text": [
      "monkey\n",
      "monkey\n"
     ]
    }
   ],
   "source": [
    "for match in re.finditer(regex, 'I like monkeys and monkey business'):\n",
    "    mprint(match)"
   ]
  },
  {
   "cell_type": "markdown",
   "metadata": {},
   "source": [
    "#### The `$` and `^`in multi-line strings are actually used to indicate the start and end of the lines, not the string. An important distinction for multiline regex. "
   ]
  },
  {
   "cell_type": "code",
   "execution_count": 9,
   "metadata": {},
   "outputs": [
    {
     "name": "stdout",
     "output_type": "stream",
     "text": [
      "cool\n"
     ]
    }
   ],
   "source": [
    "# note how we only match the first cool at the start of the line\n",
    "regex = r'^cool'\n",
    "multi_line = '''cool, this string has more than one line, and the\n",
    "regular expression will only match the first cool, because we only want to match\n",
    "the first character at the start of the line when we match cool, which is what we mean when we say \n",
    "^ in a multi line string context.\n",
    "'''\n",
    "for match in re.finditer(regex, multi_line):\n",
    "    mprint(match)"
   ]
  },
  {
   "cell_type": "markdown",
   "metadata": {},
   "source": [
    "# Character Sets\n",
    "Along with matching specific strings and characters, regular expressions have a syntax build in for matching sets of \n",
    "different characters. The import Regular Expression characters for a set are `[` and `]`. Anything between the brackets\n",
    "will be included in the set. The hyphen, `-`, can be used to indicate a range of characters to be recognized."
   ]
  },
  {
   "cell_type": "code",
   "execution_count": 10,
   "metadata": {},
   "outputs": [
    {
     "name": "stdout",
     "output_type": "stream",
     "text": [
      "a\n",
      "b\n",
      "c\n"
     ]
    }
   ],
   "source": [
    "# we want to match the characters a,b,c\n",
    "regex = r'[abc]'\n",
    "for match in re.finditer(regex, 'abcdefghijklmnopqrstuvqxyz'):\n",
    "    mprint(match)"
   ]
  },
  {
   "cell_type": "code",
   "execution_count": 11,
   "metadata": {},
   "outputs": [
    {
     "name": "stdout",
     "output_type": "stream",
     "text": [
      "a\n",
      "b\n",
      "c\n",
      "d\n",
      "e\n",
      "f\n"
     ]
    }
   ],
   "source": [
    "# here we show how to use the - character in a regex\n",
    "regex = r'[a-f]'\n",
    "for match in re.finditer(regex, 'abcdefghijklmnopqrstuvqxyz'):\n",
    "    mprint(match)"
   ]
  },
  {
   "cell_type": "markdown",
   "metadata": {},
   "source": [
    "There are shorthands for some predefined character sets, such as digits (0-9) or all alphanumeric characters. A short, \n",
    "non-exhaustive list:\n",
    "    - \\d digits\n",
    "    - \\w all word characters\n",
    "    - \\s all whitespace characters\n",
    "    - \\h all hexidecimal characters"
   ]
  },
  {
   "cell_type": "code",
   "execution_count": 12,
   "metadata": {},
   "outputs": [
    {
     "name": "stdout",
     "output_type": "stream",
     "text": [
      "1\n",
      "2\n",
      "3\n"
     ]
    }
   ],
   "source": [
    "# we want to get all numbers (0-9 or \\d)\n",
    "regex = '\\d'\n",
    "for match in re.finditer(regex, '123 is my favorite number'):\n",
    "    mprint(match)"
   ]
  },
  {
   "cell_type": "code",
   "execution_count": 13,
   "metadata": {},
   "outputs": [
    {
     "name": "stdout",
     "output_type": "stream",
     "text": [
      "1\n",
      "2\n",
      "3\n"
     ]
    }
   ],
   "source": [
    "# character set of 0-9, same as \\d\n",
    "# regex uses the - as a way to get the range\n",
    "# of unicode values that are accepted. \n",
    "# in this case, the values for 0, 1, 2 ... through 9\n",
    "regex = '[0-9]'\n",
    "for match in re.finditer(regex, 'this also has 123 in it'):\n",
    "    mprint(match)"
   ]
  },
  {
   "cell_type": "code",
   "execution_count": null,
   "metadata": {},
   "outputs": [],
   "source": []
  }
 ],
 "metadata": {
  "kernelspec": {
   "display_name": "Python 3",
   "language": "python",
   "name": "python3"
  },
  "language_info": {
   "codemirror_mode": {
    "name": "ipython",
    "version": 3
   },
   "file_extension": ".py",
   "mimetype": "text/x-python",
   "name": "python",
   "nbconvert_exporter": "python",
   "pygments_lexer": "ipython3",
   "version": "3.7.1"
  }
 },
 "nbformat": 4,
 "nbformat_minor": 2
}
